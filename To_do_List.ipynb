{
  "nbformat": 4,
  "nbformat_minor": 0,
  "metadata": {
    "colab": {
      "provenance": [],
      "authorship_tag": "ABX9TyNMt3MJabgCMp++lMMTZ5bW",
      "include_colab_link": true
    },
    "kernelspec": {
      "name": "python3",
      "display_name": "Python 3"
    },
    "language_info": {
      "name": "python"
    }
  },
  "cells": [
    {
      "cell_type": "markdown",
      "metadata": {
        "id": "view-in-github",
        "colab_type": "text"
      },
      "source": [
        "<a href=\"https://colab.research.google.com/github/MueezRiz/codsoft_taskno.1/blob/main/To_do_List.ipynb\" target=\"_parent\"><img src=\"https://colab.research.google.com/assets/colab-badge.svg\" alt=\"Open In Colab\"/></a>"
      ]
    },
    {
      "cell_type": "code",
      "execution_count": null,
      "metadata": {
        "colab": {
          "base_uri": "https://localhost:8080/"
        },
        "id": "mjef8mDUiBYD",
        "outputId": "3c513f44-145b-40e3-cd58-4a2f7b6b105e"
      },
      "outputs": [
        {
          "name": "stdout",
          "output_type": "stream",
          "text": [
            "-------------------------This is a To-Do List-------------------------\n",
            "1. Add Task\n",
            "2. View List\n",
            "3. Delete Task\n",
            "\n",
            "Choose from the above mentioned options1\n",
            "Enter the task number 1\n",
            "Enter the task Breakfast\n",
            "Do you want to continue? (Y/y or N/n)y\n",
            "OK\n",
            "1. Add Task\n",
            "2. View List\n",
            "3. Delete Task\n",
            "\n",
            "Choose from the above mentioned options1\n",
            "Enter the task number 2\n",
            "Enter the task Clean house\n",
            "Do you want to continue? (Y/y or N/n)y\n",
            "OK\n",
            "1. Add Task\n",
            "2. View List\n",
            "3. Delete Task\n",
            "\n",
            "Choose from the above mentioned options1\n",
            "Enter the task number 3\n",
            "Enter the task Pray\n",
            "Do you want to continue? (Y/y or N/n)y\n",
            "OK\n",
            "1. Add Task\n",
            "2. View List\n",
            "3. Delete Task\n",
            "\n",
            "Choose from the above mentioned options2\n",
            "Here is the complete list of the tasks\n",
            "\n",
            "1: Breakfast\n",
            "2: Clean house\n",
            "3: Pray\n",
            "Do you want to continue? (Y/y or N/n)y\n",
            "OK\n",
            "1. Add Task\n",
            "2. View List\n",
            "3. Delete Task\n",
            "\n",
            "Choose from the above mentioned options3\n",
            "Enter the task you want to delete 2\n",
            "Task number 2 has been deleted\n",
            "Do you want to continue? (Y/y or N/n)y\n",
            "OK\n",
            "1. Add Task\n",
            "2. View List\n",
            "3. Delete Task\n",
            "\n",
            "Choose from the above mentioned options2\n",
            "Here is the complete list of the tasks\n",
            "\n",
            "1: Breakfast\n",
            "3: Pray\n",
            "Do you want to continue? (Y/y or N/n)n\n"
          ]
        }
      ],
      "source": [
        "print(\"-------------------------This is a To-Do List-------------------------\")\n",
        "\n",
        "class List:\n",
        "  def __init__(self):\n",
        "    self.todo={}\n",
        "\n",
        "  def addTask(self,number,task):\n",
        "    self.todo[number]={\"Task\":task}\n",
        "\n",
        "  def viewlist(self):\n",
        "    for number, description in self.todo.items():\n",
        "            print(f\"{number}: {description['Task']}\")\n",
        "\n",
        "  def deleteTask(self,number):\n",
        "    if number in self.todo:\n",
        "      del self.todo[number]\n",
        "      print(f\"Task number {number} has been deleted\")\n",
        "\n",
        "  def empty(self):\n",
        "        return not bool(self.todo)\n",
        "\n",
        "a=List()\n",
        "while(1):\n",
        "    print(\"1. Add Task\")\n",
        "    print(\"2. View List\")\n",
        "    print(\"3. Delete Task\")\n",
        "\n",
        "    print()\n",
        "    b=int(input(\"Choose from the above mentioned options\"))\n",
        "    if(b==1):\n",
        "      num=int(input(\"Enter the task number \"))\n",
        "      task=input(\"Enter the task \")\n",
        "      a.addTask(num,task)\n",
        "\n",
        "    elif(b==2):\n",
        "      print(\"Here is the complete list of the tasks\")\n",
        "      print()\n",
        "      a.viewlist()\n",
        "\n",
        "    elif(b==3):\n",
        "      if a.empty():\n",
        "        print(\"List is already Empty\")\n",
        "      else:\n",
        "        num=int(input(\"Enter the task you want to delete \"))\n",
        "        if num in a.todo:\n",
        "          a.deleteTask(num)\n",
        "\n",
        "    else:\n",
        "      print(\"Invalid input\")\n",
        "\n",
        "    ch=input(\"Do you want to continue? (Y/y or N/n)\")\n",
        "    if(ch==\"Y\" or ch==\"y\"):\n",
        "      print(\"OK\")\n",
        "\n",
        "    elif(ch==\"N\" or ch==\"n\"):\n",
        "      break"
      ]
    }
  ]
}